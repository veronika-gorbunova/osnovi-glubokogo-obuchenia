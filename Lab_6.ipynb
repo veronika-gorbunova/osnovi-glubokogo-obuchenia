{
 "cells": [
  {
   "cell_type": "code",
   "execution_count": 1,
   "id": "482b56fd-849f-4142-bdf7-2355d7427b01",
   "metadata": {},
   "outputs": [],
   "source": [
    "from time import time\n",
    "import numpy as np \n",
    "import pandas as pd \n",
    "\n",
    "import re\n",
    "import nltk\n",
    "from nltk.corpus import stopwords\n",
    "from gensim.models import word2vec\n",
    "\n",
    "from sklearn.neural_network import MLPClassifier\n",
    "from sklearn.model_selection import train_test_split"
   ]
  },
  {
   "cell_type": "code",
   "execution_count": 2,
   "id": "44327d2a-b0da-4a80-8c25-5ea272d83c2f",
   "metadata": {},
   "outputs": [
    {
     "name": "stdout",
     "output_type": "stream",
     "text": [
      "В наборе предложений: \n",
      " 14412\n"
     ]
    }
   ],
   "source": [
    "df = pd.read_csv(\"labeled_rutoxic.csv\", delimiter=',', header=0, names=['sentence', 'label'])\n",
    "\n",
    "print('В наборе предложений: \\n',df.shape[0])"
   ]
  },
  {
   "cell_type": "code",
   "execution_count": 3,
   "id": "e5f651c3-a790-40d9-901f-3d49c5d672aa",
   "metadata": {},
   "outputs": [
    {
     "name": "stdout",
     "output_type": "stream",
     "text": [
      "toxic: 4826\n",
      "not toxic: 9586\n"
     ]
    }
   ],
   "source": [
    "print('toxic:', df[df['label'] > 0]['label'].count())\n",
    "print('not toxic:', df[df['label'] < 1]['label'].count())"
   ]
  },
  {
   "cell_type": "code",
   "execution_count": 4,
   "id": "fffe44dd-9d8c-4393-84c4-234e2b6acdd0",
   "metadata": {},
   "outputs": [],
   "source": [
    "X = df.iloc[:,0]# \n",
    "y = df.iloc[:,1]# \n",
    "\n",
    "train , test , y_train, y_test = train_test_split(X, y, test_size=0.3) # и отдаем 30% на тест, остальное на обучен"
   ]
  },
  {
   "cell_type": "code",
   "execution_count": 5,
   "id": "2c41623a-ee01-455e-818b-753fd394c2ce",
   "metadata": {},
   "outputs": [
    {
     "name": "stdout",
     "output_type": "stream",
     "text": [
      "3767    [50, человек, 33, машины, это, как, и, вообще,...\n",
      "Name: sentence, dtype: object\n"
     ]
    }
   ],
   "source": [
    "# Метод преобразования текста в слова\n",
    "def text_to_words(raw_text, remove_stopwords=False):\n",
    "   \n",
    "    letters_only = re.sub(\"[^0-9а-яА-Я]\", \" \", raw_text)\n",
    "    words = letters_only.lower().split()\n",
    "    if remove_stopwords:\n",
    "        stops = set(stopwords.words(\"russian\"))\n",
    "        meaningful_words = [w for w in words if not w in stops]\n",
    "        words = meaningful_words\n",
    "    return words \n",
    "\n",
    "sentences_train = train.apply(text_to_words, remove_stopwords=False)\n",
    "sentences_test = test.apply(text_to_words, remove_stopwords=False)\n",
    "print(sentences_train[:1])"
   ]
  },
  {
   "cell_type": "code",
   "execution_count": 6,
   "id": "00c38fd3-7566-4a1c-abac-1d05e50279c2",
   "metadata": {},
   "outputs": [],
   "source": [
    "\n",
    "num_features = 300                \n",
    "min_word_count = 40                     \n",
    "num_workers = 4      \n",
    "context = 20                                                                                        \n",
    "downsampling = 1e-3  \n",
    "model = word2vec.Word2Vec(sentences_train, workers=num_workers, vector_size=num_features, min_count = min_word_count, window = context, sample = downsampling)"
   ]
  },
  {
   "cell_type": "code",
   "execution_count": 7,
   "id": "19878cb6-5b6b-460d-a3a2-b76bf871ad70",
   "metadata": {},
   "outputs": [
    {
     "name": "stdout",
     "output_type": "stream",
     "text": [
      "[ 4.60491218e-02  1.77925035e-01  2.84816958e-02  2.69680172e-02\n",
      "  7.21297786e-02 -1.90532833e-01  1.30635783e-01  3.62971634e-01\n",
      "  6.36379272e-02 -7.17774481e-02  3.03260088e-02 -1.08946085e-01\n",
      "  3.43056321e-02 -4.92329989e-03 -1.46393836e-01 -1.26624539e-01\n",
      "  6.58736750e-02  3.61233391e-02  1.03520649e-02 -1.39252484e-01\n",
      " -4.46592793e-02 -3.42850126e-02  1.22742869e-01  3.17343436e-02\n",
      "  4.40374836e-02 -1.59052256e-02 -1.71727449e-01  3.02167479e-02\n",
      " -1.86473384e-01 -9.60635319e-02  5.11607155e-02 -1.74030662e-02\n",
      "  8.04688483e-02 -6.51075840e-02 -3.55086289e-03  5.26156947e-02\n",
      "  3.28429453e-02 -2.40130067e-01 -3.82895991e-02 -1.31824417e-02\n",
      " -4.80668768e-02  1.90671382e-03  9.16009396e-02 -1.08047739e-01\n",
      "  1.34357899e-01  1.90455616e-01  1.52480826e-02  4.88234870e-02\n",
      " -3.47661925e-03  5.87041564e-02  5.14409132e-02  3.69630940e-02\n",
      " -1.25418454e-01  9.55058336e-02 -9.36210603e-02  6.29331917e-02\n",
      "  6.45324290e-02 -1.60671603e-02  4.48068492e-02 -2.50088088e-02\n",
      " -6.34320378e-02 -1.50354262e-02 -2.34080609e-02  5.69981225e-02\n",
      " -9.69110876e-02  1.38283834e-01  1.23022003e-02  1.71281979e-03\n",
      " -1.26737565e-01  5.61212413e-02  3.26095521e-02  1.38425678e-01\n",
      "  1.03879854e-01 -1.66318536e-01  1.32961258e-01  5.34337573e-03\n",
      " -2.42806096e-02 -3.75831537e-02 -9.88902673e-02  8.90857950e-02\n",
      " -6.21475652e-02 -1.30482256e-01 -1.26316072e-02  3.58413339e-01\n",
      "  6.95227236e-02  4.45442274e-02 -1.04302645e-01 -3.84089760e-02\n",
      "  2.24494860e-01  1.00754917e-01  2.57103145e-01 -9.05147642e-02\n",
      "  2.08298559e-03  1.84534993e-02  1.35642081e-01  1.96065649e-01\n",
      "  1.25276595e-01 -7.86940008e-03 -1.50193647e-01  1.05179586e-01\n",
      " -8.44431967e-02  3.65286171e-02  1.03559926e-01  9.72332284e-02\n",
      " -3.94216143e-02 -1.03720590e-01 -5.87916262e-02  8.71128775e-03\n",
      " -1.05032764e-01  3.79022881e-02 -1.92173347e-01  1.32087963e-02\n",
      "  5.12158275e-02  1.90384552e-01  8.03374574e-02  3.54409143e-02\n",
      "  6.78133965e-02  8.75092298e-02  1.05452433e-01 -2.29556322e-01\n",
      "  1.05344787e-01  8.46376419e-02  6.42988160e-02 -4.98815626e-02\n",
      " -8.93133432e-02  1.32146865e-01 -4.74398136e-02 -2.21592858e-01\n",
      "  1.78281013e-02  1.52286083e-01  1.12180218e-01  2.29832575e-01\n",
      "  3.38293612e-02 -1.66866928e-01  2.65752189e-02  1.41898960e-01\n",
      " -8.90226960e-02 -1.41467005e-01 -2.22153857e-01 -2.05638915e-01\n",
      "  7.39093646e-02 -1.56292707e-01 -4.99852337e-02  5.76770790e-02\n",
      "  1.35172550e-02 -1.36350781e-01 -1.69920281e-01 -1.16061643e-01\n",
      "  8.60602930e-02 -7.47238547e-02 -4.07543220e-02 -2.00026199e-01\n",
      " -3.09852995e-02 -1.94166973e-02 -9.86566301e-03  1.29243523e-01\n",
      " -1.71091199e-01 -9.48165059e-02 -4.16507423e-02  1.44005537e-01\n",
      "  4.67402488e-02  1.15682043e-01 -2.54364073e-01  1.17361546e-01\n",
      " -9.09378529e-02  1.00104347e-01 -1.73448212e-02 -5.15532680e-02\n",
      "  2.73031984e-02  2.27515310e-01 -1.27480745e-01 -2.74146795e-02\n",
      "  8.90058428e-02  1.10860884e-01  2.57770419e-02  8.15761536e-02\n",
      " -8.81478637e-02 -2.59482086e-01  2.78784130e-02 -4.95601781e-02\n",
      " -1.30919917e-02  1.16080977e-01 -1.55092105e-01 -8.70411284e-03\n",
      " -1.36349276e-01  8.74376949e-03  2.10970834e-01  1.95399553e-01\n",
      "  4.65231761e-02 -1.35087430e-01  9.57883373e-02  3.29912454e-02\n",
      " -1.55794770e-01 -1.58359166e-02  3.41574028e-02 -1.52725220e-01\n",
      "  2.51952652e-03 -1.88075021e-01 -1.83936767e-02  2.82627139e-02\n",
      " -1.48278326e-01  5.83400857e-03  8.15368351e-03 -1.13309324e-01\n",
      "  3.44151556e-02  4.04362101e-03 -9.54489410e-03  3.99460131e-03\n",
      " -1.93643309e-02  1.39251072e-02 -3.11418660e-02 -1.43224671e-01\n",
      " -3.42572629e-02 -5.86827509e-02  5.39656356e-02 -1.11810744e-01\n",
      " -6.34452552e-02 -2.93238580e-01 -1.98915929e-01 -1.08768463e-01\n",
      "  1.28805846e-01  1.21755209e-02 -7.31154233e-02 -1.37867123e-01\n",
      " -3.64672840e-02 -6.72923550e-02  1.23460237e-02 -5.51795727e-03\n",
      " -1.04734898e-01  5.36724329e-02  2.63454281e-02 -2.73835822e-03\n",
      " -6.96362033e-02  1.04692973e-01 -2.06796639e-02  2.40316186e-02\n",
      "  6.13713521e-04  4.46267612e-02  2.40806434e-02 -2.47389197e-01\n",
      " -1.73385290e-03  6.38531148e-03  7.15764984e-03  3.43765616e-02\n",
      "  5.04515506e-03 -1.39177456e-01  1.38656143e-02 -4.00644466e-02\n",
      "  6.77301511e-02  1.04694769e-01  6.87953085e-02  6.52961656e-02\n",
      "  6.07812926e-02  7.51695409e-03 -1.50961354e-01 -1.18407026e-01\n",
      "  2.17136830e-01  8.92872736e-02 -2.04288766e-01 -1.50477603e-01\n",
      "  7.57581741e-02  2.59616226e-02  9.45068151e-02 -2.38890797e-01\n",
      " -2.11561158e-01 -6.81349542e-03  9.86365601e-02  1.31391972e-01\n",
      " -1.42634779e-01  7.53610656e-02 -5.14225438e-02 -3.52304056e-02\n",
      "  1.31086636e-04 -5.02553396e-02  7.98547193e-02  7.16044381e-02\n",
      "  1.19875513e-01  9.56452712e-02 -2.59951919e-01 -1.66748818e-02\n",
      "  2.57861055e-02 -7.13684335e-02  3.81807759e-02  1.39828205e-01\n",
      "  3.67103033e-02  1.25464527e-02 -1.98697403e-01  1.29326090e-01\n",
      " -4.97035123e-02  1.04119197e-01  1.97477899e-02  2.27893025e-01\n",
      "  1.25059947e-01  1.76395904e-02  2.09443241e-01  1.73960984e-01\n",
      "  7.94921666e-02 -1.62004158e-02  8.08317140e-02 -3.28098983e-02]\n"
     ]
    }
   ],
   "source": [
    "# получение векторного представления\n",
    "def makeFeatureVec(words, model, num_features):\n",
    "    featureVec = np.zeros((num_features,), dtype=\"float32\")\n",
    "    nwords = 0\n",
    "\n",
    "    index2word_set = set(model.wv.index_to_key)\n",
    "   \n",
    "    for word in words:\n",
    "        if word in index2word_set: \n",
    "            nwords = nwords + 1\n",
    "            featureVec = np.add(featureVec, model.wv[word])\n",
    "\n",
    "    if nwords == 0:\n",
    "        nwords = 1\n",
    "    featureVec = np.divide(featureVec, nwords)\n",
    "    return featureVec\n",
    "\n",
    "# получение среднего векторного простнраства для предложения\n",
    "def getAvgFeatureVecs(reviews, model, num_features):\n",
    "    reviewFeatureVecs = np.zeros((len(reviews), num_features), dtype=\"float32\")\n",
    "    counter = 0\n",
    "    for review in reviews:\n",
    "        reviewFeatureVecs[counter] = makeFeatureVec(review, model, num_features)\n",
    "        counter = counter + 1\n",
    "    return reviewFeatureVecs\n",
    "\n",
    "f_matrix_train = getAvgFeatureVecs(sentences_train, model, num_features)\n",
    "f_matrix_test = getAvgFeatureVecs(sentences_test, model, num_features)\n",
    "print(f_matrix_train[0,:])"
   ]
  },
  {
   "cell_type": "code",
   "execution_count": 8,
   "id": "459acb4f-d2b4-4b83-a3eb-7d3fe381ca61",
   "metadata": {},
   "outputs": [
    {
     "name": "stdout",
     "output_type": "stream",
     "text": [
      "[MLPClassifier(hidden_layer_sizes=(300, 40, 30), random_state=1)]\n"
     ]
    }
   ],
   "source": [
    "model = []\n",
    "\n",
    "m = MLPClassifier(solver='adam', hidden_layer_sizes=(300,40,30), random_state=1)\n",
    "model.append(m)\n",
    "\n",
    "print(model)"
   ]
  },
  {
   "cell_type": "code",
   "execution_count": 9,
   "id": "55185a4e-8a2b-4729-92df-d8e317225e6e",
   "metadata": {},
   "outputs": [
    {
     "name": "stdout",
     "output_type": "stream",
     "text": [
      "done\n"
     ]
    }
   ],
   "source": [
    "batch_size = 200\n",
    "total_rows = f_matrix_train.shape[0]\n",
    "duration = 0\n",
    "start_train = time()\n",
    "pos = 0\n",
    "classes = [0.0, 1.0]\n",
    "while duration < 10 and pos < total_rows:\n",
    "    if pos+batch_size > total_rows:\n",
    "        batch_size = total_rows-pos\n",
    "    X_p = f_matrix_train[pos:pos+batch_size]\n",
    "    y_p = y_train.values[pos:pos+batch_size]\n",
    "    model[0].partial_fit(X_p, y_p, classes)\n",
    "    pos = pos + batch_size\n",
    "    duration = time() - start_train\n",
    "    if pos == total_rows:\n",
    "        pos = 0\n",
    "        batch_size = 10000\n",
    "print('done')"
   ]
  },
  {
   "cell_type": "code",
   "execution_count": 10,
   "id": "e8b92fbe-a820-4bfc-9c77-10cbd0e480f7",
   "metadata": {},
   "outputs": [],
   "source": [
    "# Сохранение результатов и расчет ошибки"
   ]
  },
  {
   "cell_type": "code",
   "execution_count": 11,
   "id": "fd06d6db-e108-4fb6-92e8-fb9166d6432f",
   "metadata": {},
   "outputs": [
    {
     "name": "stdout",
     "output_type": "stream",
     "text": [
      "count test values 4324\n",
      "sum_errors 498.0\n"
     ]
    }
   ],
   "source": [
    "y_test_values=y_test.values\n",
    "predicted_results = model[0].predict_proba(f_matrix_test)\n",
    "predicted_results = np.where(predicted_results[:,0]>predicted_results[:,1], 0.0,1.0)\n",
    "\n",
    "sum_errors =sum(y_test_values - predicted_results)\n",
    "print('count test values', len(y_test_values))\n",
    "print('sum_errors', sum_errors)\n"
   ]
  },
  {
   "cell_type": "code",
   "execution_count": 12,
   "id": "62cb7b25-995e-4b15-a998-9710afb0d3ff",
   "metadata": {},
   "outputs": [],
   "source": [
    "saved_result = pd.DataFrame({'text':test.values,\n",
    " 'expected':  y_test_values,\n",
    " 'predicted': predicted_results})"
   ]
  },
  {
   "cell_type": "code",
   "execution_count": 13,
   "id": "8aa3432d-e4cb-4d82-9541-70ff693f9489",
   "metadata": {},
   "outputs": [],
   "source": [
    "saved_result.to_csv('result.csv', encoding='utf-8', index=False)"
   ]
  }
 ],
 "metadata": {
  "kernelspec": {
   "display_name": "Python 3 (ipykernel)",
   "language": "python",
   "name": "python3"
  },
  "language_info": {
   "codemirror_mode": {
    "name": "ipython",
    "version": 3
   },
   "file_extension": ".py",
   "mimetype": "text/x-python",
   "name": "python",
   "nbconvert_exporter": "python",
   "pygments_lexer": "ipython3",
   "version": "3.11.5"
  }
 },
 "nbformat": 4,
 "nbformat_minor": 5
}
